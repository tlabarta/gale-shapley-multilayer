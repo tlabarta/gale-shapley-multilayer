{
 "cells": [
  {
   "cell_type": "markdown",
   "id": "13b3c96a",
   "metadata": {
    "pycharm": {
     "name": "#%% md\n"
    }
   },
   "source": [
    "## Task 1"
   ]
  },
  {
   "cell_type": "markdown",
   "id": "41cfacb5",
   "metadata": {
    "pycharm": {
     "name": "#%% md\n"
    }
   },
   "source": [
    "(Data generation) Pick n=20,40,60,80,100, where n is the number of\n",
    "customers and the number of passengers. For each value of n, you can\n",
    "generate 50 instances. For each instance, you need to generate 2 layers of\n",
    "preferences. You can generate these uniformly at random, with profits from\n",
    "[0,n], etas from [0,1] (1 could be 1h or some other unit like 1 day=24h),\n",
    "and genders from {d,f,m}. As a starting point, you could pick n=20 and\n",
    "generate 1 instance. You can move on to generating more instances once you\n",
    "are certain that the profit, eta, and gender random generators are working\n",
    "properly."
   ]
  },
  {
   "cell_type": "code",
   "execution_count": 2,
   "id": "4a383966",
   "metadata": {
    "pycharm": {
     "name": "#%%\n"
    }
   },
   "outputs": [
    {
     "ename": "ModuleNotFoundError",
     "evalue": "No module named 'numpy'",
     "output_type": "error",
     "traceback": [
      "\u001B[0;31m---------------------------------------------------------------------------\u001B[0m",
      "\u001B[0;31mModuleNotFoundError\u001B[0m                       Traceback (most recent call last)",
      "Input \u001B[0;32mIn [2]\u001B[0m, in \u001B[0;36m<cell line: 1>\u001B[0;34m()\u001B[0m\n\u001B[0;32m----> 1\u001B[0m \u001B[38;5;28;01mimport\u001B[39;00m \u001B[38;5;21;01mnumpy\u001B[39;00m \u001B[38;5;28;01mas\u001B[39;00m \u001B[38;5;21;01mnp\u001B[39;00m\n\u001B[1;32m      2\u001B[0m \u001B[38;5;28;01mimport\u001B[39;00m \u001B[38;5;21;01mrandom\u001B[39;00m\n\u001B[1;32m      3\u001B[0m \u001B[38;5;28;01mimport\u001B[39;00m \u001B[38;5;21;01mpandas\u001B[39;00m \u001B[38;5;28;01mas\u001B[39;00m \u001B[38;5;21;01mpd\u001B[39;00m\n",
      "\u001B[0;31mModuleNotFoundError\u001B[0m: No module named 'numpy'"
     ]
    }
   ],
   "source": [
    "import numpy as np\n",
    "import random\n",
    "import pandas as pd\n",
    "\n",
    "n = 20\n",
    "\n",
    "def generatePreferences(n, party, layer):\n",
    "    preferences = pd.DataFrame()\n",
    "    \n",
    "    for i in range(n):\n",
    "        randomlist = []\n",
    "        if layer == 1:\n",
    "            if party == \"driver\":\n",
    "                randomlist = random.choices(range(0, n),k=n)\n",
    "            elif party == \"passenger\":\n",
    "                randomlist = random.choices(np.linspace(0,1,11),k=n)\n",
    "        elif layer == 2:\n",
    "            randomlist = random.choices(range(0, 3),k=n)\n",
    "        if party == \"driver\":\n",
    "            preferences['driver'+str(i)] = randomlist\n",
    "        elif party == \"passenger\":\n",
    "            preferences['passenger'+str(i)] = randomlist\n",
    "    \n",
    "    if party == \"driver\":\n",
    "        preferences = preferences.transpose().add_prefix(\"passenger\").transpose()\n",
    "    elif party == \"passenger\":\n",
    "        preferences = preferences.transpose().add_prefix(\"driver\").transpose()\n",
    "    return preferences\n",
    "    \n",
    "    \n",
    "driver_l1 = generatePreferences(n, \"driver\", 1)\n",
    "driver_l2 = generatePreferences(n, \"driver\", 2)\n",
    "passenger_l1 = generatePreferences(n, \"passenger\", 1)\n",
    "passenger_l2 = generatePreferences(n, \"passenger\", 2)"
   ]
  },
  {
   "cell_type": "code",
   "execution_count": 3,
   "id": "c335c1a5",
   "metadata": {
    "pycharm": {
     "name": "#%%\n"
    }
   },
   "outputs": [
    {
     "ename": "ModuleNotFoundError",
     "evalue": "No module named 'seaborn'",
     "output_type": "error",
     "traceback": [
      "\u001B[0;31m---------------------------------------------------------------------------\u001B[0m",
      "\u001B[0;31mModuleNotFoundError\u001B[0m                       Traceback (most recent call last)",
      "Input \u001B[0;32mIn [3]\u001B[0m, in \u001B[0;36m<cell line: 1>\u001B[0;34m()\u001B[0m\n\u001B[0;32m----> 1\u001B[0m \u001B[38;5;28;01mimport\u001B[39;00m \u001B[38;5;21;01mseaborn\u001B[39;00m \u001B[38;5;28;01mas\u001B[39;00m \u001B[38;5;21;01msns\u001B[39;00m\n\u001B[1;32m      2\u001B[0m \u001B[38;5;28;01mimport\u001B[39;00m \u001B[38;5;21;01mmatplotlib\u001B[39;00m\u001B[38;5;21;01m.\u001B[39;00m\u001B[38;5;21;01mpyplot\u001B[39;00m \u001B[38;5;28;01mas\u001B[39;00m \u001B[38;5;21;01mplt\u001B[39;00m\n\u001B[1;32m      4\u001B[0m sns\u001B[38;5;241m.\u001B[39mset(rc\u001B[38;5;241m=\u001B[39m{\u001B[38;5;124m\"\u001B[39m\u001B[38;5;124mfigure.figsize\u001B[39m\u001B[38;5;124m\"\u001B[39m:(\u001B[38;5;241m12\u001B[39m,\u001B[38;5;241m8\u001B[39m)})\n",
      "\u001B[0;31mModuleNotFoundError\u001B[0m: No module named 'seaborn'"
     ]
    }
   ],
   "source": [
    "import seaborn as sns\n",
    "import matplotlib.pyplot as plt\n",
    "\n",
    "sns.set(rc={\"figure.figsize\":(12,8)})\n",
    "\n",
    "ax = plt.axes()\n",
    "df = driver_l1\n",
    "sns.heatmap(df.transpose(), cmap=\"Blues\", annot=True, fmt='g', ax = ax, cbar_kws = dict(ticks=range(0, n)))\n",
    "ax.set_title('Driver Layer 1 Profit Preferences')\n",
    "plt.show()\n",
    "\n",
    "ax = plt.axes()\n",
    "df = passenger_l1\n",
    "sns.heatmap(df.transpose(), cmap=\"Blues\", annot=True, fmt='g', ax = ax, cbar_kws = dict(ticks=np.linspace(0,1,11)))\n",
    "ax.set_title('Passenger Layer 1 ETA Preferences')\n",
    "plt.show()\n",
    "\n",
    "ax = plt.axes()\n",
    "df = driver_l2\n",
    "sns.heatmap(df.transpose(), annot=True, fmt='g', ax = ax, cbar_kws = dict(ticks=[0, 1, 2]))\n",
    "ax.set_title('Driver Layer 2 Gender Preferences (0=f, 1=m, 2=d)')\n",
    "plt.show()\n",
    "\n",
    "\n",
    "ax = plt.axes()\n",
    "df = passenger_l2\n",
    "sns.heatmap(df.transpose(), annot=True, fmt='g', ax = ax, cbar_kws = dict(ticks=[0, 1, 2]))\n",
    "ax.set_title('Passenger Layer 2 Gender Preferences (0=f, 1=m, 2=d)')\n",
    "plt.show()\n"
   ]
  },
  {
   "cell_type": "markdown",
   "id": "7ce30c4b",
   "metadata": {
    "pycharm": {
     "name": "#%% md\n"
    }
   },
   "source": [
    "## Task 2"
   ]
  },
  {
   "cell_type": "markdown",
   "id": "3a322c1e",
   "metadata": {
    "pycharm": {
     "name": "#%% md\n"
    }
   },
   "source": [
    "Task 2: (Sampling algorithms) In this part of the project, you have\n",
    "already learned about the Gale-Shapley (GS) algorithm. You can find an\n",
    "implementation of it in Python here:\n",
    "https://github.com/Vishal-Kancharla/Gale-Shapley-Algorithm. You can extend\n",
    "this implementation to design four sampling algorithms."
   ]
  },
  {
   "cell_type": "markdown",
   "id": "647feb3b",
   "metadata": {
    "pycharm": {
     "name": "#%% md\n"
    }
   },
   "source": [
    "Sampling algorithm 1:\n",
    "\n",
    "For i = 1 to 100000\n",
    "Step 1: Pick an order of the drivers, say (d1,...,dn). Run the GS\n",
    "algorithm with this order on the layer with profits and etas. Save the\n",
    "returned matching in M.\n",
    "Step 2: Calculate the number of blocking pairs in the matching M with\n",
    "respect to the second layer of gender preferences, the total profit in M,\n",
    "and the total eta in M."
   ]
  },
  {
   "cell_type": "code",
   "execution_count": 212,
   "id": "0a79d4dc",
   "metadata": {
    "pycharm": {
     "name": "#%%\n"
    }
   },
   "outputs": [
    {
     "data": {
      "text/plain": [
       "{0: [12, 18, 19, 5, 16, 10, 4, 11, 17, 2, 8, 14, 0, 7, 15, 9, 6, 13, 1, 3],\n",
       " 1: [13, 10, 17, 4, 11, 19, 0, 6, 7, 8, 9, 16, 3, 1, 15, 12, 5, 18, 14, 2],\n",
       " 2: [11, 4, 3, 0, 13, 6, 7, 1, 17, 15, 12, 8, 16, 9, 10, 19, 18, 2, 5, 14],\n",
       " 3: [16, 19, 15, 17, 10, 14, 4, 7, 11, 3, 9, 0, 1, 2, 13, 18, 5, 12, 6, 8],\n",
       " 4: [6, 16, 0, 11, 9, 5, 15, 7, 14, 2, 8, 10, 3, 4, 1, 13, 19, 18, 17, 12],\n",
       " 5: [4, 3, 16, 12, 6, 5, 8, 19, 11, 10, 15, 1, 9, 14, 17, 18, 7, 13, 2, 0],\n",
       " 6: [10, 12, 0, 5, 8, 16, 13, 7, 15, 18, 17, 11, 14, 9, 1, 2, 19, 3, 4, 6],\n",
       " 7: [1, 12, 17, 5, 10, 0, 14, 3, 16, 13, 18, 19, 9, 4, 11, 6, 15, 7, 8, 2],\n",
       " 8: [10, 3, 15, 11, 12, 14, 4, 0, 9, 5, 17, 16, 6, 18, 13, 1, 2, 8, 19, 7],\n",
       " 9: [15, 11, 9, 18, 1, 4, 13, 2, 17, 6, 3, 12, 10, 16, 7, 19, 14, 0, 5, 8],\n",
       " 10: [15, 6, 16, 4, 3, 13, 17, 18, 1, 5, 12, 0, 2, 10, 19, 9, 14, 8, 11, 7],\n",
       " 11: [8, 2, 3, 15, 1, 12, 4, 13, 16, 9, 6, 14, 0, 7, 17, 10, 19, 18, 11, 5],\n",
       " 12: [16, 18, 2, 12, 13, 0, 4, 5, 17, 19, 15, 8, 14, 6, 1, 9, 7, 10, 11, 3],\n",
       " 13: [17, 3, 0, 19, 16, 14, 1, 9, 18, 10, 15, 6, 13, 11, 8, 5, 4, 2, 7, 12],\n",
       " 14: [16, 15, 7, 18, 5, 9, 10, 1, 19, 3, 2, 11, 14, 0, 4, 12, 13, 17, 8, 6],\n",
       " 15: [19, 14, 16, 7, 18, 10, 13, 1, 15, 17, 12, 8, 0, 9, 11, 4, 6, 5, 3, 2],\n",
       " 16: [12, 18, 0, 14, 8, 9, 15, 10, 3, 17, 6, 11, 4, 1, 13, 5, 16, 7, 2, 19],\n",
       " 17: [18, 17, 8, 4, 14, 10, 2, 19, 13, 0, 7, 6, 9, 12, 1, 16, 5, 3, 15, 11],\n",
       " 18: [10, 14, 2, 7, 3, 11, 15, 9, 16, 12, 8, 1, 13, 0, 17, 4, 19, 18, 5, 6],\n",
       " 19: [8, 12, 18, 5, 9, 7, 10, 3, 2, 1, 16, 14, 0, 19, 6, 17, 13, 11, 4, 15]}"
      ]
     },
     "execution_count": 212,
     "metadata": {},
     "output_type": "execute_result"
    }
   ],
   "source": [
    "import numpy as np\n",
    "import random\n",
    "import pandas as pd\n",
    "\n",
    "n = 20\n",
    "\n",
    "def generatePreferences(n, party, layer):\n",
    "    preferences = {}\n",
    "    \n",
    "    for i in range(n):\n",
    "        randomlist = []\n",
    "        if layer == 1:\n",
    "            if party == \"driver\":\n",
    "                randomlist = random.sample(range(0, n),n)\n",
    "            elif party == \"passenger\":\n",
    "                randomlist = random.sample(range(0, n),n)\n",
    "        elif layer == 2:\n",
    "            randomlist = random.choices(range(0, 3),k=n)\n",
    "        if party == \"driver\":\n",
    "            preferences[i] = randomlist\n",
    "        elif party == \"passenger\":\n",
    "            preferences[i] = randomlist\n",
    "    return preferences\n",
    "    \n",
    "    \n",
    "driver_l1 = generatePreferences(n, \"driver\", 1)\n",
    "driver_l2 = generatePreferences(n, \"driver\", 2)\n",
    "passenger_l1 = generatePreferences(n, \"passenger\", 1)\n",
    "passenger_l2 = generatePreferences(n, \"passenger\", 2)\n",
    "\n",
    "driver_l1"
   ]
  },
  {
   "cell_type": "code",
   "execution_count": 253,
   "id": "772a288e",
   "metadata": {
    "pycharm": {
     "name": "#%%\n"
    }
   },
   "outputs": [
    {
     "name": "stdout",
     "output_type": "stream",
     "text": [
      "{'driver0': 12, 'driver1': 13, 'driver2': 11, 'driver3': 15, 'driver4': 6, 'driver5': 4, 'driver6': 10, 'driver7': 1, 'driver8': 3, 'driver9': 9, 'driver10': 16, 'driver11': 8, 'driver12': 2, 'driver13': 17, 'driver14': 7, 'driver15': 19, 'driver16': 0, 'driver17': 18, 'driver18': 14, 'driver19': 5}\n"
     ]
    }
   ],
   "source": [
    "driverPreferences = driver_l1\n",
    "passengerPreferences = passenger_l1\n",
    "\n",
    "\n",
    "def stableMatching(n, driverPreferences, passengerPreferences):\n",
    "    unmatched = list(range(n))\n",
    "    driverID = {f\"driver{key}\": val for key, val in driverPreferences.items()}\n",
    "    driverID = list(driverID.keys())\n",
    "    driverMatch = [None] * n\n",
    "    passengerMatch = [None] * n\n",
    "    nextChoice = [0] * n\n",
    "\n",
    "    while unmatched:\n",
    "        \n",
    "        driver = unmatched[0]\n",
    "        dPreferences = driverPreferences[driver]\n",
    "        passenger = dPreferences[nextChoice[driver]]\n",
    "        pPreferences = passengerPreferences[passenger]\n",
    "        currentMatch = passengerMatch[passenger]\n",
    "    \n",
    "        if currentMatch == None:\n",
    "            passengerMatch[passenger] = driver\n",
    "            driverMatch[driver] = passenger\n",
    "            nextChoice[driver] = nextChoice[driver] + 1\n",
    "            unmatched.pop(0)\n",
    "        else:\n",
    "            currentIndex = pPreferences.index(currentMatch)\n",
    "            hisIndex = pPreferences.index(driver)\n",
    "            if currentIndex > hisIndex:\n",
    "                passengerMatch[passenger] = driver\n",
    "                driverMatch[driver] = passenger\n",
    "                nextChoice[driver] = nextChoice[driver] + 1\n",
    "                unmatched.pop(0)\n",
    "                unmatched.insert(0, currentMatch)\n",
    "            else:\n",
    "                nextChoice[driver] = nextChoice[driver] + 1\n",
    "                \n",
    "    driverMatch = dict(zip(driverID, driverMatch))      \n",
    "    return driverMatch\n",
    "\n",
    "\n",
    "print(stableMatching(n, driverPreferences, passengerPreferences))\n",
    "\n",
    "#Get driver profit and customer ETA\n",
    "\n",
    "#Calculate Sum"
   ]
  },
  {
   "cell_type": "markdown",
   "id": "dd443f07",
   "metadata": {
    "pycharm": {
     "name": "#%% md\n"
    }
   },
   "source": [
    "Sampling algorithm 2:\n",
    "\n",
    "For i = 1 to 100000\n",
    "Step 1: Pick an order of the passengers, say (p1,...,pn). Run the GS\n",
    "algorithm with this order on the layer with profits and etas. Save the\n",
    "returned matching in M.\n",
    "Step 2: Calculate the number of blocking pairs in M with respect to the\n",
    "second layer of gender preferences, the total profit in M, and the total\n",
    "eta in M.\n"
   ]
  },
  {
   "cell_type": "markdown",
   "id": "c2a6ad5f",
   "metadata": {
    "pycharm": {
     "name": "#%% md\n"
    }
   },
   "source": [
    "Sampling algorithm 3:\n",
    "\n",
    "For i = 1 to 100000\n",
    "Step 1: Pick an order of the drivers, say (d1,...,dn). Run the GS\n",
    "algorithm with this order on the layer with gender preferences. Save the\n",
    "returned matching in M.\n",
    "Step 2: Calculate the number of blocking pairs in M with respect to the\n",
    "first layer of profit and eta preferences, the total profit in M, and the\n",
    "total eta in M."
   ]
  },
  {
   "cell_type": "markdown",
   "id": "6c59bd92",
   "metadata": {
    "pycharm": {
     "name": "#%% md\n"
    }
   },
   "source": [
    "Sampling algorithm 4:\n",
    "\n",
    "For i = 1 to 100000\n",
    "Step 1: Pick an order of the passengers, say (p1,...,pn). Run the GS\n",
    "algorithm with this order on the layer with gender preferences. Save the\n",
    "returned matching in M.\n",
    "Step 2: Calculate the number of blocking pairs in M with respect to the\n",
    "first layer of profit and eta preferences, the total profit in M, and the\n",
    "total eta in M."
   ]
  },
  {
   "cell_type": "markdown",
   "id": "7f2abd5d",
   "metadata": {
    "pycharm": {
     "name": "#%% md\n"
    }
   },
   "source": [
    "Task 3: (Empirical comparison) In this part, you should plot the results\n",
    "returned of the four sampling algorithms and discuss their performance.\n",
    "For plotting, you may use Python or some other programming language."
   ]
  }
 ],
 "metadata": {
  "kernelspec": {
   "display_name": "Python 3 (ipykernel)",
   "language": "python",
   "name": "python3"
  },
  "language_info": {
   "codemirror_mode": {
    "name": "ipython",
    "version": 3
   },
   "file_extension": ".py",
   "mimetype": "text/x-python",
   "name": "python",
   "nbconvert_exporter": "python",
   "pygments_lexer": "ipython3",
   "version": "3.10.4"
  }
 },
 "nbformat": 4,
 "nbformat_minor": 5
}