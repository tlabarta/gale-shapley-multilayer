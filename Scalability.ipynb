{
 "cells": [
  {
   "cell_type": "code",
   "execution_count": 1,
   "metadata": {
    "pycharm": {
     "name": "#%%\n"
    }
   },
   "outputs": [],
   "source": [
    "import matplotlib.pyplot as plt\n",
    "import pandas as pd\n",
    "import visual"
   ]
  },
  {
   "cell_type": "markdown",
   "metadata": {
    "pycharm": {
     "name": "#%%\n"
    }
   },
   "source": [
    "## 1. Scalability"
   ]
  },
  {
   "cell_type": "code",
   "execution_count": 29,
   "metadata": {
    "pycharm": {
     "name": "#%%\n"
    },
    "scrolled": true
   },
   "outputs": [
    {
     "data": {
      "text/html": [
       "<div>\n",
       "<style scoped>\n",
       "    .dataframe tbody tr th:only-of-type {\n",
       "        vertical-align: middle;\n",
       "    }\n",
       "\n",
       "    .dataframe tbody tr th {\n",
       "        vertical-align: top;\n",
       "    }\n",
       "\n",
       "    .dataframe thead th {\n",
       "        text-align: right;\n",
       "    }\n",
       "</style>\n",
       "<table border=\"1\" class=\"dataframe\">\n",
       "  <thead>\n",
       "    <tr style=\"text-align: right;\">\n",
       "      <th></th>\n",
       "      <th>Unnamed: 0</th>\n",
       "      <th>n=</th>\n",
       "      <th>Run Time All in s</th>\n",
       "      <th>Run Time Matching in s</th>\n",
       "      <th>Run Time Pref in s</th>\n",
       "      <th>Run Time Preference Generation in %</th>\n",
       "      <th>Run Time ALG in %</th>\n",
       "    </tr>\n",
       "  </thead>\n",
       "  <tbody>\n",
       "    <tr>\n",
       "      <th>0</th>\n",
       "      <td>0</td>\n",
       "      <td>100</td>\n",
       "      <td>0.022987</td>\n",
       "      <td>0.012568</td>\n",
       "      <td>0.010419</td>\n",
       "      <td>45%</td>\n",
       "      <td>55%</td>\n",
       "    </tr>\n",
       "    <tr>\n",
       "      <th>1</th>\n",
       "      <td>1</td>\n",
       "      <td>200</td>\n",
       "      <td>0.146034</td>\n",
       "      <td>0.089624</td>\n",
       "      <td>0.056410</td>\n",
       "      <td>39%</td>\n",
       "      <td>61%</td>\n",
       "    </tr>\n",
       "    <tr>\n",
       "      <th>2</th>\n",
       "      <td>2</td>\n",
       "      <td>400</td>\n",
       "      <td>0.908979</td>\n",
       "      <td>0.569377</td>\n",
       "      <td>0.339601</td>\n",
       "      <td>37%</td>\n",
       "      <td>63%</td>\n",
       "    </tr>\n",
       "    <tr>\n",
       "      <th>3</th>\n",
       "      <td>3</td>\n",
       "      <td>600</td>\n",
       "      <td>2.874459</td>\n",
       "      <td>1.875306</td>\n",
       "      <td>0.999152</td>\n",
       "      <td>35%</td>\n",
       "      <td>65%</td>\n",
       "    </tr>\n",
       "    <tr>\n",
       "      <th>4</th>\n",
       "      <td>4</td>\n",
       "      <td>800</td>\n",
       "      <td>6.488023</td>\n",
       "      <td>4.302448</td>\n",
       "      <td>2.185576</td>\n",
       "      <td>34%</td>\n",
       "      <td>66%</td>\n",
       "    </tr>\n",
       "    <tr>\n",
       "      <th>5</th>\n",
       "      <td>5</td>\n",
       "      <td>1000</td>\n",
       "      <td>12.425256</td>\n",
       "      <td>8.415219</td>\n",
       "      <td>4.010036</td>\n",
       "      <td>32%</td>\n",
       "      <td>68%</td>\n",
       "    </tr>\n",
       "    <tr>\n",
       "      <th>6</th>\n",
       "      <td>6</td>\n",
       "      <td>2000</td>\n",
       "      <td>94.423119</td>\n",
       "      <td>66.232661</td>\n",
       "      <td>28.190458</td>\n",
       "      <td>30%</td>\n",
       "      <td>70%</td>\n",
       "    </tr>\n",
       "    <tr>\n",
       "      <th>7</th>\n",
       "      <td>7</td>\n",
       "      <td>4000</td>\n",
       "      <td>727.767596</td>\n",
       "      <td>518.957254</td>\n",
       "      <td>208.810342</td>\n",
       "      <td>29%</td>\n",
       "      <td>71%</td>\n",
       "    </tr>\n",
       "    <tr>\n",
       "      <th>8</th>\n",
       "      <td>8</td>\n",
       "      <td>6000</td>\n",
       "      <td>2462.441035</td>\n",
       "      <td>1769.381228</td>\n",
       "      <td>693.059807</td>\n",
       "      <td>28%</td>\n",
       "      <td>72%</td>\n",
       "    </tr>\n",
       "    <tr>\n",
       "      <th>9</th>\n",
       "      <td>9</td>\n",
       "      <td>8000</td>\n",
       "      <td>5722.932715</td>\n",
       "      <td>4105.598427</td>\n",
       "      <td>1617.334290</td>\n",
       "      <td>28%</td>\n",
       "      <td>72%</td>\n",
       "    </tr>\n",
       "    <tr>\n",
       "      <th>10</th>\n",
       "      <td>10</td>\n",
       "      <td>10000</td>\n",
       "      <td>11584.119790</td>\n",
       "      <td>8468.752165</td>\n",
       "      <td>3115.367621</td>\n",
       "      <td>27%</td>\n",
       "      <td>73%</td>\n",
       "    </tr>\n",
       "  </tbody>\n",
       "</table>\n",
       "</div>"
      ],
      "text/plain": [
       "    Unnamed: 0     n=  Run Time All in s  Run Time Matching in s  \\\n",
       "0            0    100           0.022987                0.012568   \n",
       "1            1    200           0.146034                0.089624   \n",
       "2            2    400           0.908979                0.569377   \n",
       "3            3    600           2.874459                1.875306   \n",
       "4            4    800           6.488023                4.302448   \n",
       "5            5   1000          12.425256                8.415219   \n",
       "6            6   2000          94.423119               66.232661   \n",
       "7            7   4000         727.767596              518.957254   \n",
       "8            8   6000        2462.441035             1769.381228   \n",
       "9            9   8000        5722.932715             4105.598427   \n",
       "10          10  10000       11584.119790             8468.752165   \n",
       "\n",
       "    Run Time Pref in s Run Time Preference Generation in % Run Time ALG in %  \n",
       "0             0.010419                                 45%               55%  \n",
       "1             0.056410                                 39%               61%  \n",
       "2             0.339601                                 37%               63%  \n",
       "3             0.999152                                 35%               65%  \n",
       "4             2.185576                                 34%               66%  \n",
       "5             4.010036                                 32%               68%  \n",
       "6            28.190458                                 30%               70%  \n",
       "7           208.810342                                 29%               71%  \n",
       "8           693.059807                                 28%               72%  \n",
       "9          1617.334290                                 28%               72%  \n",
       "10         3115.367621                                 27%               73%  "
      ]
     },
     "execution_count": 29,
     "metadata": {},
     "output_type": "execute_result"
    }
   ],
   "source": [
    "df_run_time = pd.read_csv(f'./results/run_time.csv')\n",
    "df_run_time"
   ]
  },
  {
   "cell_type": "markdown",
   "metadata": {},
   "source": [
    "## Run Time All"
   ]
  },
  {
   "cell_type": "code",
   "execution_count": 40,
   "metadata": {},
   "outputs": [
    {
     "data": {
      "image/png": "[encoded data removed]",
      "text/plain": [
       "<Figure size 432x288 with 1 Axes>"
      ]
     },
     "metadata": {
      "needs_background": "light"
     },
     "output_type": "display_data"
    }
   ],
   "source": [
    "x = df_run_time['n=']\n",
    "y = df_run_time['Run Time All in s']\n",
    "plt.plot(x, y, '-o')\n",
    "plt.xlabel('market size')\n",
    "plt.ylim(0,20000)\n",
    "plt.ylabel(' run time in seconds')\n",
    "#plt.title('Run Time All')\n",
    "plt.show()"
   ]
  },
  {
   "cell_type": "markdown",
   "metadata": {},
   "source": [
    "## Run Time ALG"
   ]
  },
  {
   "cell_type": "code",
   "execution_count": 69,
   "metadata": {
    "scrolled": true
   },
   "outputs": [
    {
     "data": {
      "image/png": "[encoded data removed]",
      "text/plain": [
       "<Figure size 432x288 with 1 Axes>"
      ]
     },
     "metadata": {
      "needs_background": "light"
     },
     "output_type": "display_data"
    }
   ],
   "source": [
    "x = df_run_time['n=']\n",
    "y = df_run_time['Run Time Matching in s']\n",
    "plt.plot(x, y, '-o',label='matching')\n",
    "plt.plot(x, z, '-o',label='benchmark generation')\n",
    "plt.xlabel('market size')\n",
    "plt.ylim(0,10000)\n",
    "plt.ylabel('run-time in seconds')\n",
    "#plt.title('Run Time Matching')\n",
    "plt.legend(loc=\"upper left\")\n",
    "plt.show()"
   ]
  },
  {
   "cell_type": "code",
   "execution_count": 61,
   "metadata": {},
   "outputs": [
    {
     "data": {
      "image/png": "[encoded data removed]",
      "text/plain": [
       "<Figure size 432x288 with 1 Axes>"
      ]
     },
     "metadata": {
      "needs_background": "light"
     },
     "output_type": "display_data"
    },
    {
     "name": "stderr",
     "output_type": "stream",
     "text": [
      "No artists with labels found to put in legend.  Note that artists whose label start with an underscore are ignored when legend() is called with no argument.\n",
      "No artists with labels found to put in legend.  Note that artists whose label start with an underscore are ignored when legend() is called with no argument.\n"
     ]
    },
    {
     "data": {
      "text/plain": [
       "<matplotlib.legend.Legend at 0x150922d10>"
      ]
     },
     "execution_count": 61,
     "metadata": {},
     "output_type": "execute_result"
    },
    {
     "data": {
      "image/png": "[encoded data removed]",
      "text/plain": [
       "<Figure size 432x288 with 1 Axes>"
      ]
     },
     "metadata": {
      "needs_background": "light"
     },
     "output_type": "display_data"
    }
   ],
   "source": [
    "x = df_run_time['n=']\n",
    "y = df_run_time['Run Time Matching in s']\n",
    "z = df_run_time['Run Time Pref in s']\n",
    "\n",
    "plt.plot(x, y,'-o',label='matching')\n",
    "plt.plot(x,z,'-o', label='benchmark generation')\n",
    "plt.xlabel('market size')\n",
    "plt.ylim(0,10000)\n",
    "plt.ylabel('run time in seconds')\n",
    "#plt.title('Run Time Matching')\n",
    "plt.show()\n",
    "plt.legend(loc=\"upper left\")\n",
    "plt.gca().legend()\n",
    "\n",
    "#handles, labels = ax.get_legend_handles_labels()\n",
    "\n",
    "#plt.legend([y,z],['matching','benchmark generation'])"
   ]
  },
  {
   "cell_type": "markdown",
   "metadata": {},
   "source": [
    "## Run Time Preference Generation"
   ]
  },
  {
   "cell_type": "code",
   "execution_count": 36,
   "metadata": {
    "scrolled": true
   },
   "outputs": [
    {
     "data": {
      "image/png": "[encoded data removed]",
      "text/plain": [
       "<Figure size 432x288 with 1 Axes>"
      ]
     },
     "metadata": {
      "needs_background": "light"
     },
     "output_type": "display_data"
    }
   ],
   "source": [
    "x = df_run_time['n=']\n",
    "y = df_run_time['Run Time Pref in s']\n",
    "plt.plot(x, y, '-o')\n",
    "plt.xlabel('market size')\n",
    "plt.ylim(0,10000)\n",
    "plt.ylabel('benchmark generation time in seconds')\n",
    "#plt.title('Run Time Preference Generation')\n",
    "plt.show()"
   ]
  },
  {
   "cell_type": "markdown",
   "metadata": {},
   "source": [
    "## Stacked Preference Generation and ALG"
   ]
  },
  {
   "cell_type": "code",
   "execution_count": 63,
   "metadata": {},
   "outputs": [
    {
     "data": {
      "image/png": "[encoded data removed]",
      "text/plain": [
       "<Figure size 720x360 with 1 Axes>"
      ]
     },
     "metadata": {
      "needs_background": "light"
     },
     "output_type": "display_data"
    }
   ],
   "source": [
    "x = df_run_time['n=']\n",
    "y_1 = df_run_time['Run Time Pref in s']\n",
    "y_2 = df_run_time['Run Time Matching in s']\n",
    "\n",
    "width = 500    # the width of the bars: can also be len(x) sequence\n",
    "\n",
    "fig, ax = plt.subplots(figsize=(10, 5))\n",
    "\n",
    "ax.bar(x, y_1, width, label='Preference Generation')\n",
    "ax.bar(x, y_2, width, bottom=y_1,\n",
    "       label='Algorithm')\n",
    "\n",
    "ax.set_ylabel('Scores')\n",
    "ax.set_title('Scores by group and gender')\n",
    "ax.legend()\n",
    "\n",
    "plt.show()"
   ]
  },
  {
   "cell_type": "code",
   "execution_count": 70,
   "metadata": {},
   "outputs": [
    {
     "data": {
      "text/html": [
       "<div>\n",
       "<style scoped>\n",
       "    .dataframe tbody tr th:only-of-type {\n",
       "        vertical-align: middle;\n",
       "    }\n",
       "\n",
       "    .dataframe tbody tr th {\n",
       "        vertical-align: top;\n",
       "    }\n",
       "\n",
       "    .dataframe thead th {\n",
       "        text-align: right;\n",
       "    }\n",
       "</style>\n",
       "<table border=\"1\" class=\"dataframe\">\n",
       "  <thead>\n",
       "    <tr style=\"text-align: right;\">\n",
       "      <th></th>\n",
       "      <th>n=</th>\n",
       "      <th>Run Time Preference Generation in %</th>\n",
       "      <th>Run Time ALG in %</th>\n",
       "    </tr>\n",
       "  </thead>\n",
       "  <tbody>\n",
       "    <tr>\n",
       "      <th>0</th>\n",
       "      <td>100</td>\n",
       "      <td>45%</td>\n",
       "      <td>55%</td>\n",
       "    </tr>\n",
       "    <tr>\n",
       "      <th>1</th>\n",
       "      <td>200</td>\n",
       "      <td>39%</td>\n",
       "      <td>61%</td>\n",
       "    </tr>\n",
       "    <tr>\n",
       "      <th>2</th>\n",
       "      <td>400</td>\n",
       "      <td>37%</td>\n",
       "      <td>63%</td>\n",
       "    </tr>\n",
       "    <tr>\n",
       "      <th>3</th>\n",
       "      <td>600</td>\n",
       "      <td>35%</td>\n",
       "      <td>65%</td>\n",
       "    </tr>\n",
       "    <tr>\n",
       "      <th>4</th>\n",
       "      <td>800</td>\n",
       "      <td>34%</td>\n",
       "      <td>66%</td>\n",
       "    </tr>\n",
       "    <tr>\n",
       "      <th>5</th>\n",
       "      <td>1000</td>\n",
       "      <td>32%</td>\n",
       "      <td>68%</td>\n",
       "    </tr>\n",
       "    <tr>\n",
       "      <th>6</th>\n",
       "      <td>2000</td>\n",
       "      <td>30%</td>\n",
       "      <td>70%</td>\n",
       "    </tr>\n",
       "    <tr>\n",
       "      <th>7</th>\n",
       "      <td>4000</td>\n",
       "      <td>29%</td>\n",
       "      <td>71%</td>\n",
       "    </tr>\n",
       "    <tr>\n",
       "      <th>8</th>\n",
       "      <td>6000</td>\n",
       "      <td>28%</td>\n",
       "      <td>72%</td>\n",
       "    </tr>\n",
       "    <tr>\n",
       "      <th>9</th>\n",
       "      <td>8000</td>\n",
       "      <td>28%</td>\n",
       "      <td>72%</td>\n",
       "    </tr>\n",
       "    <tr>\n",
       "      <th>10</th>\n",
       "      <td>10000</td>\n",
       "      <td>27%</td>\n",
       "      <td>73%</td>\n",
       "    </tr>\n",
       "  </tbody>\n",
       "</table>\n",
       "</div>"
      ],
      "text/plain": [
       "       n= Run Time Preference Generation in % Run Time ALG in %\n",
       "0     100                                 45%               55%\n",
       "1     200                                 39%               61%\n",
       "2     400                                 37%               63%\n",
       "3     600                                 35%               65%\n",
       "4     800                                 34%               66%\n",
       "5    1000                                 32%               68%\n",
       "6    2000                                 30%               70%\n",
       "7    4000                                 29%               71%\n",
       "8    6000                                 28%               72%\n",
       "9    8000                                 28%               72%\n",
       "10  10000                                 27%               73%"
      ]
     },
     "execution_count": 70,
     "metadata": {},
     "output_type": "execute_result"
    }
   ],
   "source": [
    "df_run_share = df_run_time[['n=','Run Time Preference Generation in %', 'Run Time ALG in %']]\n",
    "df_run_share"
   ]
  },
  {
   "cell_type": "code",
   "execution_count": null,
   "metadata": {},
   "outputs": [],
   "source": []
  }
 ],
 "metadata": {
  "kernelspec": {
   "display_name": "Python 3 (ipykernel)",
   "language": "python",
   "name": "python3"
  },
  "language_info": {
   "codemirror_mode": {
    "name": "ipython",
    "version": 3
   },
   "file_extension": ".py",
   "mimetype": "text/x-python",
   "name": "python",
   "nbconvert_exporter": "python",
   "pygments_lexer": "ipython3",
   "version": "3.10.4"
  }
 },
 "nbformat": 4,
 "nbformat_minor": 1
}
